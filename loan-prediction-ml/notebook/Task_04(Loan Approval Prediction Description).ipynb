{
 "cells": [
  {
   "cell_type": "code",
   "execution_count": 5,
   "id": "51d54eae-cc35-44ed-9873-ca4d6425882f",
   "metadata": {},
   "outputs": [
    {
     "name": "stdout",
     "output_type": "stream",
     "text": [
      "shape: (614, 13)\n",
      "['Loan_ID', 'Gender', 'Married', 'Dependents', 'Education', 'Self_Employed', 'ApplicantIncome', 'CoapplicantIncome', 'LoanAmount', 'Loan_Amount_Term', 'Credit_History', 'Property_Area', 'Loan_Status']\n",
      "    Loan_ID Gender Married Dependents     Education Self_Employed  \\\n",
      "0  LP001002   Male      No          0      Graduate            No   \n",
      "1  LP001003   Male     Yes          1      Graduate            No   \n",
      "2  LP001005   Male     Yes          0      Graduate           Yes   \n",
      "3  LP001006   Male     Yes          0  Not Graduate            No   \n",
      "4  LP001008   Male      No          0      Graduate            No   \n",
      "\n",
      "   ApplicantIncome  CoapplicantIncome  LoanAmount  Loan_Amount_Term  \\\n",
      "0             5849                0.0         NaN             360.0   \n",
      "1             4583             1508.0       128.0             360.0   \n",
      "2             3000                0.0        66.0             360.0   \n",
      "3             2583             2358.0       120.0             360.0   \n",
      "4             6000                0.0       141.0             360.0   \n",
      "\n",
      "   Credit_History Property_Area Loan_Status  \n",
      "0             1.0         Urban           Y  \n",
      "1             1.0         Rural           N  \n",
      "2             1.0         Urban           Y  \n",
      "3             1.0         Urban           Y  \n",
      "4             1.0         Urban           Y  \n",
      "\n",
      "Unique values in Loan_Status (target): ['Y' 'N']\n"
     ]
    }
   ],
   "source": [
    "import pandas as pd\n",
    "\n",
    "df = pd.read_csv(\"loan_data.csv\")   # change filename to your CSV\n",
    "print(\"shape:\", df.shape)\n",
    "print(df.columns.tolist())\n",
    "print(df.head())\n",
    "print(\"\\nUnique values in Loan_Status (target):\", df['Loan_Status'].unique())\n"
   ]
  },
  {
   "cell_type": "code",
   "execution_count": 6,
   "id": "986426fc-ef95-4793-8ab9-a3982c612e11",
   "metadata": {},
   "outputs": [
    {
     "name": "stdout",
     "output_type": "stream",
     "text": [
      "<class 'pandas.core.frame.DataFrame'>\n",
      "RangeIndex: 614 entries, 0 to 613\n",
      "Data columns (total 13 columns):\n",
      " #   Column             Non-Null Count  Dtype  \n",
      "---  ------             --------------  -----  \n",
      " 0   Loan_ID            614 non-null    object \n",
      " 1   Gender             601 non-null    object \n",
      " 2   Married            611 non-null    object \n",
      " 3   Dependents         599 non-null    object \n",
      " 4   Education          614 non-null    object \n",
      " 5   Self_Employed      582 non-null    object \n",
      " 6   ApplicantIncome    614 non-null    int64  \n",
      " 7   CoapplicantIncome  614 non-null    float64\n",
      " 8   LoanAmount         592 non-null    float64\n",
      " 9   Loan_Amount_Term   600 non-null    float64\n",
      " 10  Credit_History     564 non-null    float64\n",
      " 11  Property_Area      614 non-null    object \n",
      " 12  Loan_Status        614 non-null    object \n",
      "dtypes: float64(4), int64(1), object(8)\n",
      "memory usage: 62.5+ KB\n",
      "None\n",
      "Loan_ID               0\n",
      "Gender               13\n",
      "Married               3\n",
      "Dependents           15\n",
      "Education             0\n",
      "Self_Employed        32\n",
      "ApplicantIncome       0\n",
      "CoapplicantIncome     0\n",
      "LoanAmount           22\n",
      "Loan_Amount_Term     14\n",
      "Credit_History       50\n",
      "Property_Area         0\n",
      "Loan_Status           0\n",
      "dtype: int64\n"
     ]
    }
   ],
   "source": [
    "print(df.info())\n",
    "print(df.isna().sum())\n"
   ]
  },
  {
   "cell_type": "code",
   "execution_count": 8,
   "id": "819da265-624e-4c10-a2ea-7adea5683f4f",
   "metadata": {},
   "outputs": [
    {
     "name": "stdout",
     "output_type": "stream",
     "text": [
      "X shape after encoding: (614, 14)\n",
      "Class distribution:\n",
      " Loan_Status\n",
      "1    422\n",
      "0    192\n",
      "Name: count, dtype: int64\n"
     ]
    }
   ],
   "source": [
    "import pandas as pd\n",
    "import numpy as np\n",
    "\n",
    "# 1) Drop Loan_ID (not useful)\n",
    "if 'Loan_ID' in df.columns:\n",
    "    df = df.drop(columns=['Loan_ID'])\n",
    "\n",
    "# 2) Fill missing values:\n",
    "#   - categorical → mode, numeric → median\n",
    "for col in df.columns:\n",
    "    if df[col].dtype == 'object':\n",
    "        df[col] = df[col].fillna(df[col].mode()[0])   # ✅ no inplace\n",
    "    else:\n",
    "        df[col] = df[col].fillna(df[col].median())    # ✅ no inplace\n",
    "\n",
    "# 3) Map target to binary (1 = approved, 0 = not)\n",
    "target = 'Loan_Status'   # change if your file uses different name\n",
    "if df[target].dtype == object:\n",
    "    unique = list(df[target].unique())\n",
    "    print(\"Target unique values:\", unique)\n",
    "    if 'Y' in unique or 'N' in unique:\n",
    "        df[target] = df[target].map({'Y':1,'N':0})\n",
    "    elif 'Approved' in unique or 'Rejected' in unique:\n",
    "        df[target] = df[target].map({'Approved':1, 'Rejected':0})\n",
    "    else:\n",
    "        try:\n",
    "            df[target] = df[target].astype(int)\n",
    "        except:\n",
    "            raise ValueError(\"Please check the target column values and map them to 0/1 manually.\")\n",
    "else:\n",
    "    df[target] = df[target].astype(int)\n",
    "\n",
    "# 4) One-hot encode categorical variables\n",
    "X = df.drop(columns=[target])\n",
    "y = df[target]\n",
    "\n",
    "X = pd.get_dummies(X, drop_first=True)\n",
    "\n",
    "print(\"X shape after encoding:\", X.shape)\n",
    "print(\"Class distribution:\\n\", y.value_counts())\n"
   ]
  },
  {
   "cell_type": "code",
   "execution_count": 9,
   "id": "59b24598-da0a-4b5f-a13e-10d7f75bf0c3",
   "metadata": {},
   "outputs": [
    {
     "name": "stdout",
     "output_type": "stream",
     "text": [
      "(491, 14) (123, 14)\n"
     ]
    }
   ],
   "source": [
    "from sklearn.model_selection import train_test_split\n",
    "\n",
    "X_train, X_test, y_train, y_test = train_test_split(\n",
    "    X, y, test_size=0.2, random_state=42, stratify=y\n",
    ")\n",
    "print(X_train.shape, X_test.shape)\n"
   ]
  },
  {
   "cell_type": "code",
   "execution_count": 10,
   "id": "cc345b19-7bf6-48ea-8c9d-c7c355cbe07c",
   "metadata": {},
   "outputs": [
    {
     "name": "stdout",
     "output_type": "stream",
     "text": [
      "Accuracy: 0.8617886178861789\n",
      "\n",
      "Classification report:\n",
      "               precision    recall  f1-score   support\n",
      "\n",
      "           0       0.96      0.58      0.72        38\n",
      "           1       0.84      0.99      0.91        85\n",
      "\n",
      "    accuracy                           0.86       123\n",
      "   macro avg       0.90      0.78      0.81       123\n",
      "weighted avg       0.88      0.86      0.85       123\n",
      "\n"
     ]
    }
   ],
   "source": [
    "from sklearn.preprocessing import StandardScaler\n",
    "from sklearn.linear_model import LogisticRegression\n",
    "from sklearn.metrics import classification_report, confusion_matrix, accuracy_score\n",
    "\n",
    "# scale features for LR\n",
    "scaler = StandardScaler()\n",
    "X_train_scaled = scaler.fit_transform(X_train)\n",
    "X_test_scaled  = scaler.transform(X_test)\n",
    "\n",
    "# train\n",
    "lr = LogisticRegression(max_iter=1000, random_state=42)\n",
    "lr.fit(X_train_scaled, y_train)\n",
    "\n",
    "# predict & evaluate\n",
    "y_pred_lr = lr.predict(X_test_scaled)\n",
    "print(\"Accuracy:\", accuracy_score(y_test, y_pred_lr))\n",
    "print(\"\\nClassification report:\\n\", classification_report(y_test, y_pred_lr))\n"
   ]
  },
  {
   "cell_type": "code",
   "execution_count": 11,
   "id": "7d495c92-a336-47fb-8d55-c570e1d40b85",
   "metadata": {},
   "outputs": [
    {
     "data": {
      "image/png": "[encoded data removed]",
      "text/plain": [
       "<Figure size 640x480 with 2 Axes>"
      ]
     },
     "metadata": {},
     "output_type": "display_data"
    }
   ],
   "source": [
    "import seaborn as sns\n",
    "import matplotlib.pyplot as plt\n",
    "cm = confusion_matrix(y_test, y_pred_lr)\n",
    "sns.heatmap(cm, annot=True, fmt='d', cmap='Blues')\n",
    "plt.xlabel('Predicted'); plt.ylabel('Actual'); plt.show()\n"
   ]
  },
  {
   "cell_type": "code",
   "execution_count": 12,
   "id": "f493fff2-be9a-4a52-adf5-6cd991cdf18c",
   "metadata": {},
   "outputs": [
    {
     "name": "stdout",
     "output_type": "stream",
     "text": [
      "After SMOTE class counts: Loan_Status\n",
      "1    337\n",
      "0    337\n",
      "Name: count, dtype: int64\n"
     ]
    }
   ],
   "source": [
    "from imblearn.over_sampling import SMOTE\n",
    "\n",
    "sm = SMOTE(random_state=42)\n",
    "X_res, y_res = sm.fit_resample(X_train_scaled, y_train)\n",
    "\n",
    "print(\"After SMOTE class counts:\", pd.Series(y_res).value_counts())\n"
   ]
  },
  {
   "cell_type": "code",
   "execution_count": 13,
   "id": "70cd67f8-a9c4-4f85-8203-328598524c4a",
   "metadata": {},
   "outputs": [
    {
     "name": "stdout",
     "output_type": "stream",
     "text": [
      "--- Logistic (after SMOTE) ---\n",
      "Accuracy: 0.8130081300813008\n",
      "Precision: 0.8604651162790697\n",
      "Recall: 0.8705882352941177\n",
      "F1-score: 0.8654970760233918\n",
      "              precision    recall  f1-score   support\n",
      "\n",
      "           0       0.70      0.68      0.69        38\n",
      "           1       0.86      0.87      0.87        85\n",
      "\n",
      "    accuracy                           0.81       123\n",
      "   macro avg       0.78      0.78      0.78       123\n",
      "weighted avg       0.81      0.81      0.81       123\n",
      "\n",
      "--- RandomForest (after SMOTE) ---\n",
      "Accuracy: 0.8292682926829268\n",
      "Precision: 0.8636363636363636\n",
      "Recall: 0.8941176470588236\n",
      "F1-score: 0.8786127167630058\n",
      "              precision    recall  f1-score   support\n",
      "\n",
      "           0       0.74      0.68      0.71        38\n",
      "           1       0.86      0.89      0.88        85\n",
      "\n",
      "    accuracy                           0.83       123\n",
      "   macro avg       0.80      0.79      0.80       123\n",
      "weighted avg       0.83      0.83      0.83       123\n",
      "\n"
     ]
    }
   ],
   "source": [
    "from sklearn.ensemble import RandomForestClassifier\n",
    "\n",
    "# Logistic on resampled\n",
    "lr2 = LogisticRegression(max_iter=1000, random_state=42)\n",
    "lr2.fit(X_res, y_res)\n",
    "y_pred_lr2 = lr2.predict(X_test_scaled)\n",
    "\n",
    "# RandomForest on resampled (no scaling required, but we trained on scaled features so use X_res)\n",
    "rf = RandomForestClassifier(n_estimators=100, random_state=42)\n",
    "rf.fit(X_res, y_res)\n",
    "y_pred_rf = rf.predict(X_test_scaled)\n",
    "\n",
    "from sklearn.metrics import precision_score, recall_score, f1_score\n",
    "\n",
    "def print_metrics(name, y_true, y_pred):\n",
    "    print(f\"--- {name} ---\")\n",
    "    print(\"Accuracy:\", accuracy_score(y_true, y_pred))\n",
    "    print(\"Precision:\", precision_score(y_true, y_pred))\n",
    "    print(\"Recall:\", recall_score(y_true, y_pred))\n",
    "    print(\"F1-score:\", f1_score(y_true, y_pred))\n",
    "    print(classification_report(y_true, y_pred))\n",
    "\n",
    "print_metrics(\"Logistic (after SMOTE)\", y_test, y_pred_lr2)\n",
    "print_metrics(\"RandomForest (after SMOTE)\", y_test, y_pred_rf)\n"
   ]
  },
  {
   "cell_type": "code",
   "execution_count": 14,
   "id": "ad3db177-6916-4fdb-9178-9e9211e773f2",
   "metadata": {},
   "outputs": [
    {
     "data": {
      "text/html": [
       "<div>\n",
       "<style scoped>\n",
       "    .dataframe tbody tr th:only-of-type {\n",
       "        vertical-align: middle;\n",
       "    }\n",
       "\n",
       "    .dataframe tbody tr th {\n",
       "        vertical-align: top;\n",
       "    }\n",
       "\n",
       "    .dataframe thead th {\n",
       "        text-align: right;\n",
       "    }\n",
       "</style>\n",
       "<table border=\"1\" class=\"dataframe\">\n",
       "  <thead>\n",
       "    <tr style=\"text-align: right;\">\n",
       "      <th></th>\n",
       "      <th>accuracy</th>\n",
       "      <th>precision</th>\n",
       "      <th>recall</th>\n",
       "      <th>f1</th>\n",
       "    </tr>\n",
       "    <tr>\n",
       "      <th>model</th>\n",
       "      <th></th>\n",
       "      <th></th>\n",
       "      <th></th>\n",
       "      <th></th>\n",
       "    </tr>\n",
       "  </thead>\n",
       "  <tbody>\n",
       "    <tr>\n",
       "      <th>LR baseline</th>\n",
       "      <td>0.861789</td>\n",
       "      <td>0.840000</td>\n",
       "      <td>0.988235</td>\n",
       "      <td>0.908108</td>\n",
       "    </tr>\n",
       "    <tr>\n",
       "      <th>LR + SMOTE</th>\n",
       "      <td>0.813008</td>\n",
       "      <td>0.860465</td>\n",
       "      <td>0.870588</td>\n",
       "      <td>0.865497</td>\n",
       "    </tr>\n",
       "    <tr>\n",
       "      <th>RF + SMOTE</th>\n",
       "      <td>0.829268</td>\n",
       "      <td>0.863636</td>\n",
       "      <td>0.894118</td>\n",
       "      <td>0.878613</td>\n",
       "    </tr>\n",
       "  </tbody>\n",
       "</table>\n",
       "</div>"
      ],
      "text/plain": [
       "             accuracy  precision    recall        f1\n",
       "model                                               \n",
       "LR baseline  0.861789   0.840000  0.988235  0.908108\n",
       "LR + SMOTE   0.813008   0.860465  0.870588  0.865497\n",
       "RF + SMOTE   0.829268   0.863636  0.894118  0.878613"
      ]
     },
     "execution_count": 14,
     "metadata": {},
     "output_type": "execute_result"
    }
   ],
   "source": [
    "results = []\n",
    "for name, pred in [(\"LR baseline\", y_pred_lr), (\"LR + SMOTE\", y_pred_lr2), (\"RF + SMOTE\", y_pred_rf)]:\n",
    "    results.append({\n",
    "        \"model\": name,\n",
    "        \"accuracy\": accuracy_score(y_test, pred),\n",
    "        \"precision\": precision_score(y_test, pred),\n",
    "        \"recall\": recall_score(y_test, pred),\n",
    "        \"f1\": f1_score(y_test, pred)\n",
    "    })\n",
    "pd.DataFrame(results).set_index(\"model\")\n"
   ]
  },
  {
   "cell_type": "code",
   "execution_count": 15,
   "id": "5835b054-9b03-4e98-a088-1e9f10d22d49",
   "metadata": {},
   "outputs": [
    {
     "name": "stdout",
     "output_type": "stream",
     "text": [
      "Saved model and scaler.\n"
     ]
    }
   ],
   "source": [
    "import joblib\n",
    "best_model = rf   # choose whichever performed best\n",
    "joblib.dump(best_model, 'best_loan_model.pkl')\n",
    "joblib.dump(scaler, 'scaler.pkl')\n",
    "print(\"Saved model and scaler.\")\n"
   ]
  },
  {
   "cell_type": "code",
   "execution_count": null,
   "id": "7f7de9fe-1f66-41f3-95cf-72b022f7a2f7",
   "metadata": {},
   "outputs": [],
   "source": []
  }
 ],
 "metadata": {
  "kernelspec": {
   "display_name": "Python 3 (ipykernel)",
   "language": "python",
   "name": "python3"
  },
  "language_info": {
   "codemirror_mode": {
    "name": "ipython",
    "version": 3
   },
   "file_extension": ".py",
   "mimetype": "text/x-python",
   "name": "python",
   "nbconvert_exporter": "python",
   "pygments_lexer": "ipython3",
   "version": "3.13.7"
  }
 },
 "nbformat": 4,
 "nbformat_minor": 5
}
